{
 "cells": [
  {
   "cell_type": "code",
   "execution_count": 4,
   "id": "aff08ce5",
   "metadata": {},
   "outputs": [
    {
     "data": {
      "application/javascript": "IPython.notebook.set_autosave_interval(180000)"
     },
     "metadata": {},
     "output_type": "display_data"
    },
    {
     "name": "stdout",
     "output_type": "stream",
     "text": [
      "Autosaving every 180 seconds\n",
      "The autoreload extension is already loaded. To reload it, use:\n",
      "  %reload_ext autoreload\n"
     ]
    }
   ],
   "source": [
    "import matplotlib.pyplot as plt\n",
    "import matplotlib\n",
    "\n",
    "%matplotlib tk\n",
    "%autosave 180\n",
    "%load_ext autoreload\n",
    "%autoreload 2\n",
    "\n",
    "\n",
    "import numpy as np\n",
    "#%matplotlib inline\n",
    "\n",
    "import os\n",
    "from utils_calcium import ProcessCalcium"
   ]
  },
  {
   "cell_type": "code",
   "execution_count": 5,
   "id": "044f5ae6",
   "metadata": {},
   "outputs": [
    {
     "name": "stdout",
     "output_type": "stream",
     "text": [
      "doc.keys():  dict_keys(['name', 'dob', 'sex', 'cohort_year', 'pdays', 'session_ids', 'session_names'])\n",
      "Could not find shifts in yaml file ... \n"
     ]
    },
    {
     "name": "stderr",
     "output_type": "stream",
     "text": [
      "100%|██████████| 2/2 [00:38<00:00, 19.45s/it]"
     ]
    },
    {
     "name": "stdout",
     "output_type": "stream",
     "text": [
      "DONE\n"
     ]
    },
    {
     "name": "stderr",
     "output_type": "stream",
     "text": [
      "\n"
     ]
    }
   ],
   "source": [
    "####################################################\n",
    "################## LOAD DATA #######################\n",
    "####################################################\n",
    "# TODOS:\n",
    "# 1.   load all masks and look at them\n",
    "#      see if we can find the correct cell in each day - see how much drift there is\n",
    "# 2.   load all traces and compute reward triggered averages \n",
    "#     - this should help understand if other cells in the networks are acquiring a relationship with the reward and the ensmeble cells\n",
    "\n",
    "#root_dir = '/media/cat/8TB/donato/andres/master_analysis/'\n",
    "root_dir = r'H:\\Desktop\\Code'\n",
    "\n",
    "# M1 mice\n",
    "M1 = [\n",
    "    'DON-019539_B',\n",
    "    ]\n",
    "\n",
    "# CA3 mice\n",
    "\"\"\"CA3 = [\n",
    "    'DON-012502',\n",
    "    'DON-014266',\n",
    "    'DON-014371',\n",
    "    'DON-015801',\n",
    "]\"\"\"\n",
    "\n",
    "# M1 mice\n",
    "#animal_id = \"DON-011733\"\n",
    "#animal_id = \"DON-014618\"\n",
    "animal_id = 'DON-019539_B'\n",
    "\n",
    "\n",
    "# CA3 mice\n",
    "#animal_id = \"DON-014371\"\n",
    "#animal_id = 'DON-015801'\n",
    "\n",
    "#       \n",
    "calcium_object = ProcessCalcium(root_dir,\n",
    "                                animal_id)\n",
    "\n",
    "#\n",
    "calcium_object.load_data()\n",
    "\n",
    "#\n",
    "calcium_object.load_day0_mask()\n",
    "\n",
    "#\n",
    "#c.run_binarization()\n",
    "print (\"DONE\")"
   ]
  },
  {
   "cell_type": "code",
   "execution_count": 26,
   "id": "b5e3ce40",
   "metadata": {},
   "outputs": [
    {
     "name": "stdout",
     "output_type": "stream",
     "text": [
      "[ 8  9 20 23]\n"
     ]
    }
   ],
   "source": [
    "print (calcium_object.roi_ids)"
   ]
  },
  {
   "cell_type": "code",
   "execution_count": 6,
   "id": "34d997c2",
   "metadata": {},
   "outputs": [
    {
     "name": "stdout",
     "output_type": "stream",
     "text": [
      "# of contours in session contours:  271\n",
      "selected session:  20240523\n",
      "# of contours in session contours:  272\n",
      "YDOWN\n",
      "# of contours in session contours:  272\n",
      "# of contours in session contours:  271\n",
      "# of contours in session contours:  272\n",
      "# of contours in session contours:  271\n",
      "# of contours in session contours:  272\n",
      "# of contours in session contours:  271\n",
      "# of contours in session contours:  272\n",
      "# of contours in session contours:  271\n",
      "# of contours in session contours:  272\n",
      "# of contours in session contours:  271\n",
      "# of contours in session contours:  272\n",
      "# of contours in session contours:  271\n",
      "# of contours in session contours:  272\n",
      "# of contours in session contours:  271\n",
      "# of contours in session contours:  272\n",
      "# of contours in session contours:  271\n",
      "# of contours in session contours:  272\n",
      "# of contours in session contours:  271\n",
      "# of contours in session contours:  272\n",
      "# of contours in session contours:  271\n",
      "# of contours in session contours:  272\n",
      "# of contours in session contours:  271\n",
      "# of contours in session contours:  272\n",
      "# of contours in session contours:  271\n",
      "# of contours in session contours:  272\n",
      "# of contours in session contours:  271\n",
      "# of contours in session contours:  272\n",
      "# of contours in session contours:  271\n",
      "# of contours in session contours:  272\n",
      "# of contours in session contours:  271\n",
      "# of contours in session contours:  272\n",
      "# of contours in session contours:  271\n",
      "# of contours in session contours:  272\n",
      "# of contours in session contours:  271\n",
      "# of contours in session contours:  272\n",
      "# of contours in session contours:  271\n",
      "# of contours in session contours:  272\n",
      "# of contours in session contours:  271\n",
      "# of contours in session contours:  272\n",
      "# of contours in session contours:  271\n",
      "# of contours in session contours:  272\n",
      "# of contours in session contours:  271\n",
      "# of contours in session contours:  272\n",
      "# of contours in session contours:  271\n",
      "# of contours in session contours:  272\n",
      "# of contours in session contours:  271\n",
      "# of contours in session contours:  272\n",
      "# of contours in session contours:  271\n",
      "# of contours in session contours:  272\n",
      "# of contours in session contours:  271\n",
      "# of contours in session contours:  272\n",
      "# of contours in session contours:  271\n",
      "# of contours in session contours:  272\n",
      "# of contours in session contours:  271\n",
      "# of contours in session contours:  272\n",
      "# of contours in session contours:  271\n",
      "# of contours in session contours:  272\n",
      "# of contours in session contours:  271\n",
      "# of contours in session contours:  272\n",
      "# of contours in session contours:  271\n",
      "# of contours in session contours:  272\n",
      "# of contours in session contours:  271\n",
      "# of contours in session contours:  272\n",
      "# of contours in session contours:  271\n",
      "# of contours in session contours:  272\n",
      "# of contours in session contours:  271\n",
      "# of contours in session contours:  272\n",
      "# of contours in session contours:  271\n",
      "YDOWN\n",
      "# of contours in session contours:  272\n",
      "# of contours in session contours:  271\n",
      "YDOWN\n",
      "# of contours in session contours:  272\n",
      "# of contours in session contours:  271\n",
      "# of contours in session contours:  272\n",
      "# of contours in session contours:  271\n",
      "# of contours in session contours:  272\n",
      "# of contours in session contours:  271\n",
      "YDOWN\n",
      "# of contours in session contours:  272\n",
      "# of contours in session contours:  271\n",
      "# of contours in session contours:  272\n",
      "# of contours in session contours:  271\n",
      "# of contours in session contours:  272\n",
      "# of contours in session contours:  271\n",
      "# of contours in session contours:  272\n",
      "# of contours in session contours:  271\n",
      "# of contours in session contours:  272\n",
      "# of contours in session contours:  271\n",
      "# of contours in session contours:  272\n",
      "# of contours in session contours:  271\n",
      "# of contours in session contours:  272\n",
      "# of contours in session contours:  271\n",
      "animal_id:  DON-019539_B\n",
      "session_id:  0\n",
      "x_shift:  0\n",
      "y_shift:  12\n",
      "theta:  0.8999999999999999\n",
      "theta_x:  256\n",
      "theta_y:  256\n",
      "scale_factor x:  0.9999\n",
      "scale_factor y:  1\n",
      "Logger:  [['y_shift', -1], ['y_shift', 1], ['y_shift', 1], ['y_shift', 1], ['y_shift', 1], ['y_shift', 1], ['y_shift', 1], ['y_shift', 1], ['y_shift', 1], ['y_shift', 1], ['y_shift', 1], ['y_shift', 1], ['y_shift', 1], ['y_shift', 1], ['y_shift', 1], ['y_shift', 1], ['theta', 0.1], ['theta', 0.1], ['theta', 0.1], ['theta', 0.1], ['theta', 0.1], ['theta', 0.1], ['theta', 0.1], ['theta', 0.1], ['theta', 0.1], ['theta', 0.1], ['theta', 0.1], ['theta', 0.1], ['theta', 0.1], ['theta', -0.1], ['theta', -0.1], ['theta', -0.1], ['theta', -0.1], ['y_shift', 1], ['y_shift', -1], ['y_shift', -1], ['scale_x', 1.01], ['scale_x', 0.99], ['y_shift', -1], ['theta', 0.1], ['theta', -0.1], ['theta', -0.1], ['theta', -0.1], ['theta', 0.1], ['theta', 0.1]]\n",
      "x_shift:  0\n",
      "y_shift:  12\n",
      "theta:  0.8999999999999999\n",
      "theta_x:  256\n",
      "theta_y:  256\n",
      "scale_factor x:  0.9999\n",
      "scale_factor y:  1\n",
      "# of contours in session contours:  271\n",
      "# of contours in session contours:  272\n"
     ]
    }
   ],
   "source": [
    "###################################\n",
    "from utils_calcium import align_gui_local\n",
    "\n",
    "#\n",
    "calcium_object.session_selected = 1\n",
    "calcium_object.n_cells_show = 150         # of cells to show for session 1\n",
    "calcium_object.dist_nearby_cells = 25   # distance in pixels to look for nearby cells to each ROI <- this helps orient\n",
    "\n",
    "#\n",
    "align_gui_local(calcium_object)\n",
    "\n",
    "\n"
   ]
  },
  {
   "cell_type": "code",
   "execution_count": 63,
   "metadata": {},
   "outputs": [
    {
     "name": "stdout",
     "output_type": "stream",
     "text": [
      "x_shift:  3\n",
      "y_shift:  -2\n",
      "theta:  0\n",
      "theta_x:  256\n",
      "theta_y:  256\n",
      "scale_factor x:  1\n",
      "scale_factor y:  1\n",
      "# of contours in session contours:  418\n",
      "# of contours in session contours:  370\n"
     ]
    }
   ],
   "source": [
    "from utils_calcium import reload_alignment\n",
    "reload_alignment(calcium_object)"
   ]
  },
  {
   "cell_type": "code",
   "execution_count": 20,
   "metadata": {},
   "outputs": [
    {
     "name": "stdout",
     "output_type": "stream",
     "text": [
      "200\n"
     ]
    }
   ],
   "source": [
    "import pickle\n",
    "print (len(calcium_object.master_mask))\n",
    "fname = r'H:\\Desktop\\Code\\DON-019539_B\\master_mask_GUI.pkl'\n",
    "with open(fname, 'wb') as f:\n",
    "    pickle.dump(calcium_object.master_mask, f)\n",
    "\n",
    "fname = r'H:\\Desktop\\Code\\DON-019539_B\\master_mask_GUI.pkl'\n",
    "with open(fname, 'wb') as f:\n",
    "    pickle.dump(calcium_object.session_mask, f)\n",
    "\n",
    "\n",
    "\n"
   ]
  },
  {
   "cell_type": "code",
   "execution_count": 3,
   "id": "1a573101",
   "metadata": {},
   "outputs": [],
   "source": [
    "# ####################################################\n",
    "# ####### VISUALIZE DAY0 AND SESSION N CONTOURS ######\n",
    "# ####################################################\n",
    "\n",
    "# #\n",
    "\n",
    "# c.session_id = 1\n",
    "\n",
    "# #\n",
    "# c.plot_day0_session_n_contours()\n",
    "\n",
    "# #"
   ]
  },
  {
   "cell_type": "code",
   "execution_count": 32,
   "metadata": {},
   "outputs": [
    {
     "name": "stdout",
     "output_type": "stream",
     "text": [
      "(537, 90000)\n"
     ]
    }
   ],
   "source": [
    "\n",
    "d = np.load(r'H:\\Desktop\\Code\\DON-019539_B\\20240523\\plane0\\F.npy')\n",
    "\n",
    "print (d.shape)\n",
    "\n",
    "plt.figure()\n",
    "\n",
    "for k in range(10):\n",
    "    plt.plot(d[k]+2000*k)\n",
    "\n",
    "plt.show()\n"
   ]
  },
  {
   "cell_type": "code",
   "execution_count": null,
   "metadata": {},
   "outputs": [],
   "source": []
  },
  {
   "cell_type": "code",
   "execution_count": null,
   "id": "e99976a9",
   "metadata": {},
   "outputs": [],
   "source": []
  },
  {
   "cell_type": "code",
   "execution_count": null,
   "id": "382188ed",
   "metadata": {},
   "outputs": [],
   "source": []
  },
  {
   "cell_type": "code",
   "execution_count": null,
   "id": "2e291d36",
   "metadata": {},
   "outputs": [],
   "source": []
  }
 ],
 "metadata": {
  "kernelspec": {
   "display_name": "Python 3 (ipykernel)",
   "language": "python",
   "name": "python3"
  },
  "language_info": {
   "codemirror_mode": {
    "name": "ipython",
    "version": 3
   },
   "file_extension": ".py",
   "mimetype": "text/x-python",
   "name": "python",
   "nbconvert_exporter": "python",
   "pygments_lexer": "ipython3",
   "version": "3.9.19"
  },
  "toc-autonumbering": false,
  "toc-showcode": true
 },
 "nbformat": 4,
 "nbformat_minor": 5
}
